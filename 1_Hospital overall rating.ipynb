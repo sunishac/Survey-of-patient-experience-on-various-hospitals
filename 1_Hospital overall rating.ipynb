{
 "cells": [
  {
   "cell_type": "markdown",
   "metadata": {
    "deletable": true,
    "editable": true
   },
   "source": [
    "# This is an exmaple \n",
    "### Used one data file - Hospital overall rating "
   ]
  },
  {
   "cell_type": "code",
   "execution_count": 1,
   "metadata": {
    "collapsed": false,
    "deletable": true,
    "editable": true
   },
   "outputs": [
    {
     "name": "stdout",
     "output_type": "stream",
     "text": [
      "Populating the interactive namespace from numpy and matplotlib\n",
      "+-----------------------+-----+\n",
      "|Hospital_overall_rating|COUNT|\n",
      "+-----------------------+-----+\n",
      "|                      3| 1774|\n",
      "|          Not Available| 1223|\n",
      "|                      4|  941|\n",
      "|                      2|  679|\n",
      "|                      1|  108|\n",
      "|                      5|   82|\n",
      "+-----------------------+-----+\n",
      "\n"
     ]
    }
   ],
   "source": [
    "%pylab osx\n",
    "import os\n",
    "import sys\n",
    "from pyspark import SparkContext\n",
    "from matplotlib.pylab import *\n",
    "import matplotlib.pyplot as plt\n",
    "from pyspark.sql import SparkSession\n",
    "#%matplotlib inline\n",
    "\n",
    "\n",
    "df = sqlContext.read.format('com.databricks.spark.csv').options(header='true', inferschema='true').load('/Users/pushparajparab/Desktop/Hospital_General_Information.csv')\n",
    "#print(type(df))\n",
    "df.registerTempTable('Mytable')\n",
    "groupByCount = spark.sql(\"SELECT Hospital_overall_rating, COUNT(Hospital_overall_rating) AS COUNT FROM Mytable GROUP BY Hospital_overall_rating order by count(Hospital_overall_rating) DESC \")\n",
    "groupByCount.show()\n",
    "\n",
    "_dataList = groupByCount.collect()\n",
    "x_axis = []\n",
    "y_axis = []\n",
    "\n",
    "for i in range(len(_dataList)):\n",
    "    x_axis.append(_dataList[i][0])\n",
    "    y_axis.append(_dataList[i][1])\n",
    "\n",
    "pos = np.arange(len(x_axis))\n",
    "\n",
    "ax = plt.axes()\n",
    "ax.set_xticks(pos)\n",
    "ax.set_xticklabels(x_axis)\n",
    "\n",
    "plt.bar(pos, y_axis, 0.5, color='orange')\n",
    "plt.xticks(rotation= 0)\n",
    "fig = matplotlib.pyplot.gcf()\n",
    "fig.set_size_inches(11, 6)\n",
    "\n",
    "def onclick(event):\n",
    "    print('button=%d, x=%d, y=%d, xdata=%f, ydata=%f' %\n",
    "          (event.button, event.x, event.y, event.xdata, event.ydata))\n",
    "\n",
    "cid = fig.canvas.mpl_connect('button_press_event', onclick)\n"
   ]
  }
 ],
 "metadata": {
  "kernelspec": {
   "display_name": "Python 2",
   "language": "python",
   "name": "python2"
  },
  "language_info": {
   "codemirror_mode": {
    "name": "ipython",
    "version": 2
   },
   "file_extension": ".py",
   "mimetype": "text/x-python",
   "name": "python",
   "nbconvert_exporter": "python",
   "pygments_lexer": "ipython2",
   "version": "2.7.13"
  }
 },
 "nbformat": 4,
 "nbformat_minor": 2
}
