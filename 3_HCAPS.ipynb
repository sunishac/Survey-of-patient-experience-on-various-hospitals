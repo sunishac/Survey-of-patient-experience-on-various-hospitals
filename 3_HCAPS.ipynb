{
 "cells": [
  {
   "cell_type": "code",
   "execution_count": 3,
   "metadata": {
    "collapsed": false,
    "deletable": true,
    "editable": true
   },
   "outputs": [
    {
     "name": "stdout",
     "output_type": "stream",
     "text": [
      "Populating the interactive namespace from numpy and matplotlib\n",
      "+-------------------------------------------+--------------------------+-----+\n",
      "|HCAHPS_Answer_Description                  |Patient_Survey_Star_Rating|count|\n",
      "+-------------------------------------------+--------------------------+-----+\n",
      "|Discharge information - star rating        |4                         |1234 |\n",
      "|Staff responsiveness - star rating         |4                         |1149 |\n",
      "|Communication about medicines - star rating|3                         |1118 |\n",
      "|Quietness - star rating                    |3                         |1093 |\n",
      "|Nurse communication - star rating          |4                         |1048 |\n",
      "|Pain management - star rating              |3                         |1002 |\n",
      "|Care transition - star rating              |4                         |988  |\n",
      "|Doctor communication - star rating         |3                         |983  |\n",
      "|Pain management - star rating              |4                         |973  |\n",
      "|Cleanliness - star rating                  |4                         |886  |\n",
      "|Staff responsiveness - star rating         |3                         |876  |\n",
      "|Care transition - star rating              |3                         |856  |\n",
      "|Doctor communication - star rating         |4                         |839  |\n",
      "|Quietness - star rating                    |4                         |826  |\n",
      "|Discharge information - star rating        |3                         |814  |\n",
      "|Communication about medicines - star rating|4                         |791  |\n",
      "|Nurse communication - star rating          |3                         |775  |\n",
      "|Cleanliness - star rating                  |2                         |761  |\n",
      "|Pain management - star rating              |2                         |665  |\n",
      "|Care transition - star rating              |2                         |660  |\n",
      "+-------------------------------------------+--------------------------+-----+\n",
      "only showing top 20 rows\n",
      "\n"
     ]
    }
   ],
   "source": [
    "import os\n",
    "import sys\n",
    "from pyspark import SparkContext\n",
    "import matplotlib.pyplot as plt\n",
    "import numpy as np\n",
    "from pyspark.sql import SparkSession\n",
    "# %matplotlib inline\n",
    "%pylab inline\n",
    "matplotlib.rcParams['figure.figsize'] = (10, 6)\n",
    "\n",
    "NationalRate = \"/Users/pushparajparab/Desktop/Hospital_Revised_Flatfiles/HCAHPS__Hospital.csv\"\n",
    "df = sqlContext.read.format('com.databricks.spark.csv').options(header='true', inferschema='true').load(NationalRate)\n",
    "\n",
    "df.registerTempTable('Mytable')\n",
    "\n",
    "\n",
    "query = \" SELECT Hospital_Name,HCAHPS_Answer_Description,Patient_Survey_Star_Rating\"\n",
    "query += \" FROM MyTable M\"\n",
    "query += \" WHERE HCAHPS_Answer_Description LIKE '%star rating%'\"\n",
    "query += \" AND Patient_Survey_Star_Rating != 'Not Available'\"\n",
    "query += \" order by M.Hospital_Name,HCAHPS_Answer_Description\"\n",
    "distint = spark.sql(query)\n",
    "# distint.show(20, False)\n",
    "# Complications = \"/Users/pushparajparab/Desktop/Hospital_Revised_Flatfiles/Complications_Hospital.csv\";\n",
    "# df = sqlContext.read.format('com.databricks.spark.csv').options(header='true', inferschema='true').load(Complications)\n",
    "# df.registerTempTable('Data')\n",
    "\n",
    "\n",
    "query = \" SELECT HCAHPS_Answer_Description,Patient_Survey_Star_Rating,count(Patient_Survey_Star_Rating) as count\"\n",
    "query += \" FROM MyTable M\"\n",
    "query += \" WHERE HCAHPS_Answer_Description LIKE '%star rating%'\"\n",
    "query += \" AND HCAHPS_Answer_Description NOT LIKE '%Recommend%'\"\n",
    "query += \" AND HCAHPS_Answer_Description NOT LIKE '%Summary%'\"\n",
    "query += \" AND HCAHPS_Answer_Description NOT LIKE '%Overall%'\"\n",
    "query += \" AND Patient_Survey_Star_Rating != 'Not Available'\"\n",
    "query += \" group by M.Patient_Survey_Star_Rating,HCAHPS_Answer_Description\"\n",
    "query += \" order by count(Patient_Survey_Star_Rating) desc\"\n",
    "distint = spark.sql(query)\n",
    "distint.show(20, False)\n",
    "\n",
    "_size =[]\n",
    "_text = []\n",
    "_x=[]\n",
    "_y=[]\n",
    "_dataList = distint.collect()\n",
    "for i in range(len(_dataList)):\n",
    "    _x.append(_dataList[i][0])\n",
    "    _y.append(_dataList[i][1])\n",
    "    _size.append(_dataList[i][2]*0.08)\n",
    "    _text.append('Count: '+ str(_dataList[i][2]))\n"
   ]
  },
  {
   "cell_type": "code",
   "execution_count": 4,
   "metadata": {
    "collapsed": false,
    "deletable": true,
    "editable": true,
    "scrolled": false
   },
   "outputs": [
    {
     "data": {
      "text/html": [
       "<iframe id=\"igraph\" scrolling=\"no\" style=\"border:none;\" seamless=\"seamless\" src=\"https://plot.ly/~pparab/13.embed\" height=\"525px\" width=\"100%\"></iframe>"
      ],
      "text/plain": [
       "<plotly.tools.PlotlyDisplay object>"
      ]
     },
     "execution_count": 4,
     "metadata": {},
     "output_type": "execute_result"
    }
   ],
   "source": [
    "import plotly\n",
    "# Set Plotly credetials\n",
    "\n",
    "plotly.tools.set_credentials_file(username='pparab', api_key='jgQSn7NrsQAUnpx26Aks')\n",
    "import plotly.plotly as py\n",
    "import plotly.tools as plotly_tools\n",
    "import plotly.graph_objs as go\n",
    "from plotly.graph_objs import *\n",
    " #Sign in the plotly API\n",
    "py.sign_in(\"pparab\", \"jgQSn7NrsQAUnpx26Aks\")\n",
    "\n",
    "trace0 = go.Scatter(\n",
    "    x=_x,\n",
    "    y=_y,\n",
    "    text=_text,\n",
    "    mode='markers',\n",
    "    marker=dict(\n",
    "        size=_size,\n",
    "    )\n",
    ")\n",
    "\n",
    "data = [trace0]\n",
    "py.iplot(data, filename='bubblechart-size')"
   ]
  },
  {
   "cell_type": "code",
   "execution_count": 5,
   "metadata": {
    "collapsed": false,
    "deletable": true,
    "editable": true,
    "scrolled": false
   },
   "outputs": [],
   "source": [
    "import ipywidgets as widgets\n",
    "from IPython.display import clear_output \n",
    "\n",
    "\n",
    "\n",
    "query = \" SELECT DISTINCT State\"\n",
    "query += \" FROM MyTable D\"\n",
    "query += \" ORDER BY State\"\n",
    "plt.style.use('fivethirtyeight')#assign the style for the plot\n",
    "distint = spark.sql(query)\n",
    "_dataList = distint.collect()\n",
    "_states =[]\n",
    "_selectedState = \"\"\n",
    "for i in range(len(_dataList)):\n",
    "    _states.append(_dataList[i][0])\n",
    "\n",
    "select = widgets.Dropdown(\n",
    "    options=_states,\n",
    "#      value='AZ',\n",
    "    description='State:',\n",
    "    disabled=False\n",
    ")\n",
    "display(select)\n",
    "\n",
    "o_query = \" SELECT HCAHPS_Answer_Description,Patient_Survey_Star_Rating,count(Patient_Survey_Star_Rating) as count\"\n",
    "o_query += \" FROM MyTable M\"\n",
    "o_query += \" WHERE HCAHPS_Answer_Description LIKE '%star rating%'\"\n",
    "o_query += \" AND HCAHPS_Answer_Description NOT LIKE '%Recommend%'\"\n",
    "o_query += \" AND HCAHPS_Answer_Description NOT LIKE '%Summary%'\"\n",
    "o_query += \" AND HCAHPS_Answer_Description NOT LIKE '%Overall%'\"\n",
    "o_query += \" AND Patient_Survey_Star_Rating != 'Not Available'\"\n",
    "\n",
    "distint = spark.sql(query)\n",
    "distint.show(20, False)\n",
    "\n",
    "_size =[]\n",
    "_text = []\n",
    "_x=[]\n",
    "_y=[]\n",
    "\n",
    "def on_change(change):\n",
    "    if change['type'] == 'change' and change['name'] == 'value':\n",
    "        clear_output()\n",
    "        _selectedState = change['new']\n",
    "        query = o_query + \" AND State = '\"\n",
    "        query += _selectedState\n",
    "        query += \"' group by M.Patient_Survey_Star_Rating,HCAHPS_Answer_Description\"\n",
    "        query += \" order by count(Patient_Survey_Star_Rating) desc\"\n",
    "#         print(query)\n",
    "        results = spark.sql(query);\n",
    "        results.show(20, False)\n",
    "\n",
    "        _dataList = results.collect()\n",
    "        for i in range(len(_dataList)):\n",
    "            _x.append(_dataList[i][0])\n",
    "            _y.append(_dataList[i][1])\n",
    "            _size.append(_dataList[i][2])\n",
    "            _text.append('Count: '+ str(_dataList[i][2]))\n",
    "\n",
    "\n",
    "select.observe(on_change)\n",
    "clear_output()"
   ]
  },
  {
   "cell_type": "code",
   "execution_count": 6,
   "metadata": {
    "collapsed": false,
    "deletable": true,
    "editable": true
   },
   "outputs": [
    {
     "data": {
      "text/html": [
       "<iframe id=\"igraph\" scrolling=\"no\" style=\"border:none;\" seamless=\"seamless\" src=\"https://plot.ly/~pparab/13.embed\" height=\"525px\" width=\"100%\"></iframe>"
      ],
      "text/plain": [
       "<plotly.tools.PlotlyDisplay object>"
      ]
     },
     "execution_count": 6,
     "metadata": {},
     "output_type": "execute_result"
    }
   ],
   "source": [
    "\n",
    "trace0 = go.Scatter(\n",
    "    x=_x,\n",
    "    y=_y,\n",
    "    text=_text,\n",
    "    mode='markers',\n",
    "    marker=dict(\n",
    "        size=_size\n",
    "    )\n",
    ")\n",
    "\n",
    "data = [trace0]\n",
    "py.iplot(data, filename='bubblechart-size')"
   ]
  },
  {
   "cell_type": "code",
   "execution_count": 7,
   "metadata": {
    "collapsed": false,
    "deletable": true,
    "editable": true
   },
   "outputs": [
    {
     "name": "stdout",
     "output_type": "stream",
     "text": [
      "+------------------------------------+-------------------------------------------+\n",
      "|Hospital_Name                       |HCAHPS_Answer_Description                  |\n",
      "+------------------------------------+-------------------------------------------+\n",
      "|ABBEVILLE GENERAL HOSPITAL          |Discharge information - star rating        |\n",
      "|AVOYELLES HOSPITAL                  |Staff responsiveness - star rating         |\n",
      "|AVOYELLES HOSPITAL                  |Nurse communication - star rating          |\n",
      "|AVOYELLES HOSPITAL                  |Discharge information - star rating        |\n",
      "|BEAUREGARD MEMORIAL HOSPITAL        |Cleanliness - star rating                  |\n",
      "|BYRD REGIONAL HOSPITAL              |Care transition - star rating              |\n",
      "|BYRD REGIONAL HOSPITAL              |Cleanliness - star rating                  |\n",
      "|CALDWELL MEMORIAL HOSPITAL, INC     |Cleanliness - star rating                  |\n",
      "|CHRISTUS ST FRANCES CABRINI HOSPITAL|Discharge information - star rating        |\n",
      "|CHRISTUS ST FRANCES CABRINI HOSPITAL|Staff responsiveness - star rating         |\n",
      "|CHRISTUS ST FRANCES CABRINI HOSPITAL|Cleanliness - star rating                  |\n",
      "|CHRISTUS ST FRANCES CABRINI HOSPITAL|Communication about medicines - star rating|\n",
      "|CHRISTUS ST PATRICK HOSPITAL        |Cleanliness - star rating                  |\n",
      "|CHRISTUS ST PATRICK HOSPITAL        |Communication about medicines - star rating|\n",
      "|CLAIBORNE MEMORIAL MEDICAL CENTER   |Cleanliness - star rating                  |\n",
      "|EAST CARROLL PARISH HOSPITAL        |Discharge information - star rating        |\n",
      "|EAST CARROLL PARISH HOSPITAL        |Care transition - star rating              |\n",
      "|EAST CARROLL PARISH HOSPITAL        |Cleanliness - star rating                  |\n",
      "|EAST JEFFERSON GENERAL HOSPITAL     |Cleanliness - star rating                  |\n",
      "|EAST JEFFERSON GENERAL HOSPITAL     |Staff responsiveness - star rating         |\n",
      "+------------------------------------+-------------------------------------------+\n",
      "only showing top 20 rows\n",
      "\n"
     ]
    },
    {
     "data": {
      "text/html": [
       "<iframe id=\"igraph\" scrolling=\"no\" style=\"border:none;\" seamless=\"seamless\" src=\"https://plot.ly/~pparab/9.embed\" height=\"900px\" width=\"900px\"></iframe>"
      ],
      "text/plain": [
       "<plotly.tools.PlotlyDisplay object>"
      ]
     },
     "execution_count": 7,
     "metadata": {},
     "output_type": "execute_result"
    }
   ],
   "source": [
    "u_query = \"SELECT Hospital_Name,HCAHPS_Answer_Description FROM MyTable D\"\n",
    "u_query += \" WHERE HCAHPS_Answer_Description LIKE '%star rating%'\"\n",
    "u_query += \" AND HCAHPS_Answer_Description NOT LIKE '%Recommend%'\"\n",
    "u_query += \" AND HCAHPS_Answer_Description NOT LIKE '%Summary%'\"\n",
    "u_query += \" AND HCAHPS_Answer_Description NOT LIKE '%Overall%'\"\n",
    "u_query += \" AND Patient_Survey_Star_Rating != 'Not Available'\"\n",
    "u_query += \" AND (Patient_Survey_Star_Rating = 1 OR Patient_Survey_Star_Rating = 2 )\"\n",
    "u_query += \" AND State = 'LA'\"\n",
    "# u_query += \" and Hospital_Name='TULANE MEDICAL CENTER'\" \n",
    "u_query += \" ORDER BY Hospital_Name ASC\"\n",
    "u_result = spark.sql(u_query)\n",
    "u_result.registerTempTable('BTN')\n",
    "u_result.show(20, False)\n",
    "\n",
    "_x=[]\n",
    "_y=[]\n",
    "\n",
    "_dataList = u_result.collect();\n",
    "for i in range(len(_dataList)):\n",
    "            _x.append(_dataList[i][0])\n",
    "            _y.append(_dataList[i][1])\n",
    "            \n",
    "trace = go.Scatter(\n",
    "    x = _x,\n",
    "    y = _y,\n",
    "    hoveron = 'points',\n",
    "    mode = 'markers',\n",
    "    marker =dict( \n",
    "        size = 8,\n",
    "        color = '#FF7070'\n",
    "    )\n",
    ")\n",
    "\n",
    "data = [trace]\n",
    "layout = go.Layout(\n",
    "    autosize=False,\n",
    "    width=900,\n",
    "    height=900,\n",
    "    margin=go.Margin(\n",
    "        l=340,\n",
    "        r=200,\n",
    "        b=300,\n",
    "        t=250,\n",
    "        pad=4\n",
    "    ),\n",
    "    paper_bgcolor='#fff',\n",
    "    plot_bgcolor='#fff'\n",
    ")\n",
    "fig = go.Figure(data=data, layout=layout)\n",
    "py.iplot(fig, filename='basic-scatter')"
   ]
  }
 ],
 "metadata": {
  "kernelspec": {
   "display_name": "Python 2",
   "language": "python",
   "name": "python2"
  },
  "language_info": {
   "codemirror_mode": {
    "name": "ipython",
    "version": 2
   },
   "file_extension": ".py",
   "mimetype": "text/x-python",
   "name": "python",
   "nbconvert_exporter": "python",
   "pygments_lexer": "ipython2",
   "version": "2.7.13"
  }
 },
 "nbformat": 4,
 "nbformat_minor": 2
}
